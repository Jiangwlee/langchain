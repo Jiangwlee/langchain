{
 "cells": [
  {
   "cell_type": "markdown",
   "metadata": {},
   "source": [
    "# Inspect your runnables"
   ]
  },
  {
   "cell_type": "code",
   "execution_count": null,
   "metadata": {},
   "outputs": [],
   "source": [
    "import os\n",
    "\n",
    "API_KEY = os.getenv(\"UNION_API_KEY\")\n",
    "BASE_URL = os.getenv(\"UNION_BASE_URL\")"
   ]
  },
  {
   "cell_type": "code",
   "execution_count": 1,
   "metadata": {},
   "outputs": [],
   "source": [
    "from langchain.prompts import ChatPromptTemplate\n",
    "from langchain_community.vectorstores import FAISS\n",
    "from langchain_core.output_parsers import StrOutputParser\n",
    "from langchain_core.runnables import RunnablePassthrough\n",
    "from langchain_openai import ChatOpenAI, OpenAIEmbeddings\n",
    "\n",
    "vectorstore = FAISS.from_texts(\n",
    "    [\"harrison worked at kensho\"], embedding=OpenAIEmbeddings()\n",
    ")\n",
    "retriever = vectorstore.as_retriever()\n",
    "\n",
    "template = \"\"\"Answer the question based only on the following context:\n",
    "{context}\n",
    "\n",
    "Question: {question}\n",
    "\"\"\"\n",
    "prompt = ChatPromptTemplate.from_template(template)\n",
    "\n",
    "model = ChatOpenAI()"
   ]
  },
  {
   "cell_type": "code",
   "execution_count": 2,
   "metadata": {},
   "outputs": [],
   "source": [
    "chain = (\n",
    "    {\"context\": retriever, \"question\": RunnablePassthrough()}\n",
    "    | prompt\n",
    "    | model\n",
    "    | StrOutputParser()\n",
    ")"
   ]
  },
  {
   "cell_type": "markdown",
   "metadata": {},
   "source": [
    "## 获取`Runnable`图"
   ]
  },
  {
   "cell_type": "code",
   "execution_count": 4,
   "metadata": {},
   "outputs": [
    {
     "data": {
      "text/plain": [
       "Graph(nodes={'9157464ad7994c2282445cdb316136f2': Node(id='9157464ad7994c2282445cdb316136f2', data=<class 'pydantic.v1.main.RunnableParallel<context,question>Input'>), '8d17865d2424480aa6dcace31c696dd4': Node(id='8d17865d2424480aa6dcace31c696dd4', data=<class 'pydantic.v1.main.RunnableParallel<context,question>Output'>), 'b77b410d95224979be24421d39e1c2ba': Node(id='b77b410d95224979be24421d39e1c2ba', data=VectorStoreRetriever(tags=['FAISS', 'OpenAIEmbeddings'], vectorstore=<langchain_community.vectorstores.faiss.FAISS object at 0x00000191E747A030>)), '69d04f0d5b98472396279280b60e1333': Node(id='69d04f0d5b98472396279280b60e1333', data=RunnablePassthrough()), 'adecb0cca8ba47359c685bc2ef4cac43': Node(id='adecb0cca8ba47359c685bc2ef4cac43', data=ChatPromptTemplate(input_variables=['context', 'question'], messages=[HumanMessagePromptTemplate(prompt=PromptTemplate(input_variables=['context', 'question'], template='Answer the question based only on the following context:\\n{context}\\n\\nQuestion: {question}\\n'))])), '3482ca1b393e4b05a6e5e41713b3d686': Node(id='3482ca1b393e4b05a6e5e41713b3d686', data=ChatOpenAI(client=<openai.resources.chat.completions.Completions object at 0x00000191E725A2A0>, async_client=<openai.resources.chat.completions.AsyncCompletions object at 0x00000191E725B590>, openai_api_key=SecretStr('**********'), openai_api_base='https://api.chatanywhere.tech/v1', openai_proxy='')), '3d241e8336334f95a495146baab4f0ba': Node(id='3d241e8336334f95a495146baab4f0ba', data=StrOutputParser()), '39a1f6b41c484e6fada8b8febee872bf': Node(id='39a1f6b41c484e6fada8b8febee872bf', data=<class 'pydantic.v1.main.StrOutputParserOutput'>)}, edges=[Edge(source='9157464ad7994c2282445cdb316136f2', target='b77b410d95224979be24421d39e1c2ba', data=None), Edge(source='b77b410d95224979be24421d39e1c2ba', target='8d17865d2424480aa6dcace31c696dd4', data=None), Edge(source='9157464ad7994c2282445cdb316136f2', target='69d04f0d5b98472396279280b60e1333', data=None), Edge(source='69d04f0d5b98472396279280b60e1333', target='8d17865d2424480aa6dcace31c696dd4', data=None), Edge(source='8d17865d2424480aa6dcace31c696dd4', target='adecb0cca8ba47359c685bc2ef4cac43', data=None), Edge(source='adecb0cca8ba47359c685bc2ef4cac43', target='3482ca1b393e4b05a6e5e41713b3d686', data=None), Edge(source='3d241e8336334f95a495146baab4f0ba', target='39a1f6b41c484e6fada8b8febee872bf', data=None), Edge(source='3482ca1b393e4b05a6e5e41713b3d686', target='3d241e8336334f95a495146baab4f0ba', data=None)], branches={})"
      ]
     },
     "execution_count": 4,
     "metadata": {},
     "output_type": "execute_result"
    }
   ],
   "source": [
    "chain.get_graph()"
   ]
  },
  {
   "cell_type": "markdown",
   "metadata": {},
   "source": [
    "## 打印`Runnable`图"
   ]
  },
  {
   "cell_type": "code",
   "execution_count": 7,
   "metadata": {},
   "outputs": [
    {
     "name": "stdout",
     "output_type": "stream",
     "text": [
      "           +---------------------------------+         \n",
      "           | Parallel<context,question>Input |         \n",
      "           +---------------------------------+         \n",
      "                    **               **                \n",
      "                 ***                   ***             \n",
      "               **                         **           \n",
      "+----------------------+              +-------------+  \n",
      "| VectorStoreRetriever |              | Passthrough |  \n",
      "+----------------------+              +-------------+  \n",
      "                    **               **                \n",
      "                      ***         ***                  \n",
      "                         **     **                     \n",
      "           +----------------------------------+        \n",
      "           | Parallel<context,question>Output |        \n",
      "           +----------------------------------+        \n",
      "                             *                         \n",
      "                             *                         \n",
      "                             *                         \n",
      "                  +--------------------+               \n",
      "                  | ChatPromptTemplate |               \n",
      "                  +--------------------+               \n",
      "                             *                         \n",
      "                             *                         \n",
      "                             *                         \n",
      "                      +------------+                   \n",
      "                      | ChatOpenAI |                   \n",
      "                      +------------+                   \n",
      "                             *                         \n",
      "                             *                         \n",
      "                             *                         \n",
      "                   +-----------------+                 \n",
      "                   | StrOutputParser |                 \n",
      "                   +-----------------+                 \n",
      "                             *                         \n",
      "                             *                         \n",
      "                             *                         \n",
      "                +-----------------------+              \n",
      "                | StrOutputParserOutput |              \n",
      "                +-----------------------+              \n"
     ]
    }
   ],
   "source": [
    "chain.get_graph().print_ascii()"
   ]
  },
  {
   "cell_type": "markdown",
   "metadata": {},
   "source": [
    "## 获取`Prompt`"
   ]
  },
  {
   "cell_type": "code",
   "execution_count": 8,
   "metadata": {},
   "outputs": [
    {
     "data": {
      "text/plain": [
       "[ChatPromptTemplate(input_variables=['context', 'question'], messages=[HumanMessagePromptTemplate(prompt=PromptTemplate(input_variables=['context', 'question'], template='Answer the question based only on the following context:\\n{context}\\n\\nQuestion: {question}\\n'))])]"
      ]
     },
     "execution_count": 8,
     "metadata": {},
     "output_type": "execute_result"
    }
   ],
   "source": [
    "chain.get_prompts()"
   ]
  }
 ],
 "metadata": {
  "kernelspec": {
   "display_name": "llm-demo",
   "language": "python",
   "name": "python3"
  },
  "language_info": {
   "codemirror_mode": {
    "name": "ipython",
    "version": 3
   },
   "file_extension": ".py",
   "mimetype": "text/x-python",
   "name": "python",
   "nbconvert_exporter": "python",
   "pygments_lexer": "ipython3",
   "version": "3.12.2"
  }
 },
 "nbformat": 4,
 "nbformat_minor": 2
}
